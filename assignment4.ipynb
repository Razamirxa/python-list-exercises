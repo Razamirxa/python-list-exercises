{
 "cells": [
  {
   "cell_type": "markdown",
   "metadata": {},
   "source": [
    "# Python List Exercises\n",
    "# Chapter 3: Lists in Python"
   ]
  },
  {
   "cell_type": "markdown",
   "metadata": {},
   "source": [
    "## Exercise 3-1: Names"
   ]
  },
  {
   "cell_type": "code",
   "execution_count": 2,
   "metadata": {},
   "outputs": [
    {
     "name": "stdout",
     "output_type": "stream",
     "text": [
      "Ali\n",
      "ahmed\n",
      "mohammed\n",
      "khalid\n",
      "nasser\n"
     ]
    }
   ],
   "source": [
    "# Store the names of a few of your friends in a list and print each name.\n",
    "names = [\"Ali\", \"ahmed\", \"mohammed\", \"khalid\", \"nasser\"]\n",
    "for name in names:\n",
    "    print(name)"
   ]
  },
  {
   "cell_type": "markdown",
   "metadata": {},
   "source": [
    "## Exercise 3-2: Greetings"
   ]
  },
  {
   "cell_type": "code",
   "execution_count": 3,
   "metadata": {},
   "outputs": [
    {
     "name": "stdout",
     "output_type": "stream",
     "text": [
      "Hello, Ali! How are you today?\n",
      "Hello, ahmed! How are you today?\n",
      "Hello, mohammed! How are you today?\n",
      "Hello, khalid! How are you today?\n",
      "Hello, nasser! How are you today?\n"
     ]
    }
   ],
   "source": [
    "# Print a personalized message for each person.\n",
    "for name in names:\n",
    "    print(f\"Hello, {name}! How are you today?\")"
   ]
  },
  {
   "cell_type": "markdown",
   "metadata": {},
   "source": [
    "## Exercise 3-3: Your Own List\n"
   ]
  },
  {
   "cell_type": "code",
   "execution_count": 4,
   "metadata": {},
   "outputs": [
    {
     "name": "stdout",
     "output_type": "stream",
     "text": [
      "I would like to own a Honda motorcycle.\n",
      "I would like to own a Tesla car.\n",
      "I would like to own a Yamaha bike.\n"
     ]
    }
   ],
   "source": [
    "# List of favorite modes of transportation.\n",
    "transport = [\"Honda motorcycle\", \"Tesla car\", \"Yamaha bike\"]\n",
    "for item in transport:\n",
    "    print(f\"I would like to own a {item}.\")"
   ]
  },
  {
   "cell_type": "markdown",
   "metadata": {},
   "source": [
    "## Exercise 3-4: Guest List"
   ]
  },
  {
   "cell_type": "code",
   "execution_count": 5,
   "metadata": {},
   "outputs": [
    {
     "name": "stdout",
     "output_type": "stream",
     "text": [
      "Dear Albert Einstein, you are invited to dinner.\n",
      "Dear Marie Curie, you are invited to dinner.\n",
      "Dear Nikola Tesla, you are invited to dinner.\n"
     ]
    }
   ],
   "source": [
    "# List of people to invite to dinner.\n",
    "guests = [\"Albert Einstein\", \"Marie Curie\", \"Nikola Tesla\"]\n",
    "for guest in guests:\n",
    "    print(f\"Dear {guest}, you are invited to dinner.\")\n"
   ]
  },
  {
   "cell_type": "markdown",
   "metadata": {},
   "source": [
    "## Exercise 3-5: Changing Guest List"
   ]
  },
  {
   "cell_type": "code",
   "execution_count": 6,
   "metadata": {},
   "outputs": [
    {
     "name": "stdout",
     "output_type": "stream",
     "text": [
      "Unfortunately, Marie Curie cannot make it to the dinner.\n",
      "Dear Albert Einstein, you are invited to dinner.\n",
      "Dear Isaac Newton, you are invited to dinner.\n",
      "Dear Nikola Tesla, you are invited to dinner.\n"
     ]
    }
   ],
   "source": [
    "# Modify the guest list to replace one guest who cannot attend.\n",
    "print(f\"Unfortunately, {guests[1]} cannot make it to the dinner.\")\n",
    "guests[1] = \"Isaac Newton\"\n",
    "for guest in guests:\n",
    "    print(f\"Dear {guest}, you are invited to dinner.\")"
   ]
  },
  {
   "cell_type": "markdown",
   "metadata": {},
   "source": [
    "## Exercise 3-6: More Guests\n"
   ]
  },
  {
   "cell_type": "code",
   "execution_count": 7,
   "metadata": {},
   "outputs": [
    {
     "name": "stdout",
     "output_type": "stream",
     "text": [
      "Great news! We found a bigger table.\n",
      "Dear Galileo Galilei, you are invited to dinner.\n",
      "Dear Albert Einstein, you are invited to dinner.\n",
      "Dear Leonardo da Vinci, you are invited to dinner.\n",
      "Dear Isaac Newton, you are invited to dinner.\n",
      "Dear Nikola Tesla, you are invited to dinner.\n",
      "Dear Stephen Hawking, you are invited to dinner.\n"
     ]
    }
   ],
   "source": [
    "# Add more guests to the dinner list.\n",
    "print(\"Great news! We found a bigger table.\")\n",
    "guests.insert(0, \"Galileo Galilei\")\n",
    "guests.insert(2, \"Leonardo da Vinci\")\n",
    "guests.append(\"Stephen Hawking\")\n",
    "for guest in guests:\n",
    "    print(f\"Dear {guest}, you are invited to dinner.\")\n"
   ]
  },
  {
   "cell_type": "markdown",
   "metadata": {},
   "source": [
    "## Exercise 3-7: Shrinking Guest List\n",
    "\n"
   ]
  },
  {
   "cell_type": "code",
   "execution_count": 8,
   "metadata": {},
   "outputs": [
    {
     "name": "stdout",
     "output_type": "stream",
     "text": [
      "Sorry, the new table won’t arrive in time. I can only invite two guests.\n",
      "Sorry, Stephen Hawking, I can’t invite you to dinner.\n",
      "Sorry, Nikola Tesla, I can’t invite you to dinner.\n",
      "Sorry, Isaac Newton, I can’t invite you to dinner.\n",
      "Sorry, Leonardo da Vinci, I can’t invite you to dinner.\n",
      "Dear Galileo Galilei, you are still invited to dinner.\n",
      "Dear Albert Einstein, you are still invited to dinner.\n",
      "Final guest list: []\n"
     ]
    }
   ],
   "source": [
    "# Reduce the guest list to only two people.\n",
    "print(\"Sorry, the new table won’t arrive in time. I can only invite two guests.\")\n",
    "while len(guests) > 2:\n",
    "    removed_guest = guests.pop()\n",
    "    print(f\"Sorry, {removed_guest}, I can’t invite you to dinner.\")\n",
    "for guest in guests:\n",
    "    print(f\"Dear {guest}, you are still invited to dinner.\")\n",
    "del guests[:]\n",
    "print(f\"Final guest list: {guests}\")\n"
   ]
  },
  {
   "cell_type": "markdown",
   "metadata": {},
   "source": [
    "## Exercise 3-8: Seeing the World"
   ]
  },
  {
   "cell_type": "code",
   "execution_count": 9,
   "metadata": {},
   "outputs": [
    {
     "name": "stdout",
     "output_type": "stream",
     "text": [
      "Original list: ['Tokyo', 'Paris', 'New York', 'Sydney', 'Cairo']\n",
      "Alphabetical order: ['Cairo', 'New York', 'Paris', 'Sydney', 'Tokyo']\n",
      "Original list again: ['Tokyo', 'Paris', 'New York', 'Sydney', 'Cairo']\n",
      "Reverse alphabetical order: ['Tokyo', 'Sydney', 'Paris', 'New York', 'Cairo']\n",
      "Original list again: ['Tokyo', 'Paris', 'New York', 'Sydney', 'Cairo']\n",
      "Reversed list: ['Cairo', 'Sydney', 'New York', 'Paris', 'Tokyo']\n",
      "Original order restored: ['Tokyo', 'Paris', 'New York', 'Sydney', 'Cairo']\n",
      "Sorted list: ['Cairo', 'New York', 'Paris', 'Sydney', 'Tokyo']\n",
      "Reverse sorted list: ['Tokyo', 'Sydney', 'Paris', 'New York', 'Cairo']\n"
     ]
    }
   ],
   "source": [
    "# List of places to visit.\n",
    "places = [\"Tokyo\", \"Paris\", \"New York\", \"Sydney\", \"Cairo\"]\n",
    "print(\"Original list:\", places)\n",
    "print(\"Alphabetical order:\", sorted(places))\n",
    "print(\"Original list again:\", places)\n",
    "print(\"Reverse alphabetical order:\", sorted(places, reverse=True))\n",
    "print(\"Original list again:\", places)\n",
    "places.reverse()\n",
    "print(\"Reversed list:\", places)\n",
    "places.reverse()\n",
    "print(\"Original order restored:\", places)\n",
    "places.sort()\n",
    "print(\"Sorted list:\", places)\n",
    "places.sort(reverse=True)\n",
    "print(\"Reverse sorted list:\", places)\n"
   ]
  },
  {
   "cell_type": "markdown",
   "metadata": {},
   "source": [
    "## Exercise 3-9: Dinner Guests"
   ]
  },
  {
   "cell_type": "code",
   "execution_count": 10,
   "metadata": {},
   "outputs": [
    {
     "name": "stdout",
     "output_type": "stream",
     "text": [
      "Number of people invited to dinner: 0\n"
     ]
    }
   ],
   "source": [
    "# Print the number of guests invited.\n",
    "print(f\"Number of people invited to dinner: {len(guests)}\")\n"
   ]
  },
  {
   "cell_type": "markdown",
   "metadata": {},
   "source": [
    "## Exercise 3-10: Every Function"
   ]
  },
  {
   "cell_type": "code",
   "execution_count": 11,
   "metadata": {},
   "outputs": [
    {
     "name": "stdout",
     "output_type": "stream",
     "text": [
      "Original list: ['Everest', 'K2', 'Kilimanjaro', 'Denali', 'Elbrus']\n",
      "After append: ['Everest', 'K2', 'Kilimanjaro', 'Denali', 'Elbrus', 'Mont Blanc']\n",
      "After insert: ['Everest', 'K2', 'Matterhorn', 'Kilimanjaro', 'Denali', 'Elbrus', 'Mont Blanc']\n",
      "After remove: ['Everest', 'K2', 'Matterhorn', 'Kilimanjaro', 'Elbrus', 'Mont Blanc']\n",
      "Popped mountain: Mont Blanc\n",
      "After pop: ['Everest', 'K2', 'Matterhorn', 'Kilimanjaro', 'Elbrus']\n",
      "Index of Kilimanjaro: 3\n",
      "Sorted list: ['Elbrus', 'Everest', 'K2', 'Kilimanjaro', 'Matterhorn']\n",
      "Reverse sorted list: ['Matterhorn', 'Kilimanjaro', 'K2', 'Everest', 'Elbrus']\n",
      "Reversed list: ['Elbrus', 'Everest', 'K2', 'Kilimanjaro', 'Matterhorn']\n"
     ]
    }
   ],
   "source": [
    "# Create a list of mountains and apply various functions.\n",
    "mountains = [\"Everest\", \"K2\", \"Kilimanjaro\", \"Denali\", \"Elbrus\"]\n",
    "print(\"Original list:\", mountains)\n",
    "mountains.append(\"Mont Blanc\")\n",
    "print(\"After append:\", mountains)\n",
    "mountains.insert(2, \"Matterhorn\")\n",
    "print(\"After insert:\", mountains)\n",
    "mountains.remove(\"Denali\")\n",
    "print(\"After remove:\", mountains)\n",
    "popped_mountain = mountains.pop()\n",
    "print(f\"Popped mountain: {popped_mountain}\")\n",
    "print(\"After pop:\", mountains)\n",
    "print(\"Index of Kilimanjaro:\", mountains.index(\"Kilimanjaro\"))\n",
    "mountains.sort()\n",
    "print(\"Sorted list:\", mountains)\n",
    "mountains.sort(reverse=True)\n",
    "print(\"Reverse sorted list:\", mountains)\n",
    "mountains.reverse()\n",
    "print(\"Reversed list:\", mountains)\n"
   ]
  },
  {
   "cell_type": "markdown",
   "metadata": {},
   "source": [
    "## Exercise 3-11: Intentional Error"
   ]
  },
  {
   "cell_type": "code",
   "execution_count": 12,
   "metadata": {},
   "outputs": [
    {
     "name": "stdout",
     "output_type": "stream",
     "text": [
      "IndexError: list index out of range\n",
      "Corrected list access: Elbrus\n"
     ]
    }
   ],
   "source": [
    "# Trigger an index error.\n",
    "try:\n",
    "    print(mountains[10])  # Intentional error\n",
    "except IndexError as e:\n",
    "    print(\"IndexError:\", e)\n",
    "\n",
    "# Correcting the error\n",
    "print(\"Corrected list access:\", mountains[0])\n"
   ]
  },
  {
   "cell_type": "markdown",
   "metadata": {},
   "source": []
  },
  {
   "cell_type": "markdown",
   "metadata": {},
   "source": []
  }
 ],
 "metadata": {
  "kernelspec": {
   "display_name": "docgpt",
   "language": "python",
   "name": "python3"
  },
  "language_info": {
   "codemirror_mode": {
    "name": "ipython",
    "version": 3
   },
   "file_extension": ".py",
   "mimetype": "text/x-python",
   "name": "python",
   "nbconvert_exporter": "python",
   "pygments_lexer": "ipython3",
   "version": "3.12.8"
  }
 },
 "nbformat": 4,
 "nbformat_minor": 2
}
